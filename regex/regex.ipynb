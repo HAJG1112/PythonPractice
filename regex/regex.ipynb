{
 "metadata": {
  "language_info": {
   "codemirror_mode": {
    "name": "ipython",
    "version": 3
   },
   "file_extension": ".py",
   "mimetype": "text/x-python",
   "name": "python",
   "nbconvert_exporter": "python",
   "pygments_lexer": "ipython3",
   "version": "3.7.4-final"
  },
  "orig_nbformat": 2,
  "kernelspec": {
   "name": "python3",
   "display_name": "Python 3",
   "language": "python"
  }
 },
 "nbformat": 4,
 "nbformat_minor": 2,
 "cells": [
  {
   "source": [
    "Meta Characters\n",
    "\n",
    "see - regularexpressions101\n",
    "\n",
    "Useful tool for Natural Language Processing\n",
    "\n",
    "\\d - match any number between 0-9\n",
    "\n",
    "\\D - match anything that is not a digit\n",
    "\n",
    "\\w - match anything that is a word Character\n",
    "\n",
    "\\W - match anything that is not a word Character\n",
    "\n",
    "\\s - match any whitespace and any new lines\n",
    "\n",
    "\\. - match any character except new lines\n",
    "\n",
    "\\n - match new line character\n",
    "\n",
    "\n",
    "\n"
   ],
   "cell_type": "markdown",
   "metadata": {}
  },
  {
   "source": [
    "Some Introductory Functions\n",
    "https://www.w3schools.com/python/python_regex.asp\n",
    "\n",
    "re.match   :   only matches start of string (like specifying ^)\n",
    "\n",
    "re.search   :   returns a mathc object if there is a match anywhere in the stirng\n",
    "\n",
    "re.findall    :   searches for all occurences returns a list\n",
    "\n",
    "re.sub   :   replaces one or many matches with a string\n",
    "\n",
    "re.split   : returns a lsit where the string has been split at each match"
   ],
   "cell_type": "markdown",
   "metadata": {}
  },
  {
   "cell_type": "code",
   "execution_count": 2,
   "metadata": {},
   "outputs": [],
   "source": [
    "import re   #regex module"
   ]
  },
  {
   "cell_type": "code",
   "execution_count": 3,
   "metadata": {},
   "outputs": [
    {
     "output_type": "execute_result",
     "data": {
      "text/plain": [
       "['1', '0', '0', '0']"
      ]
     },
     "metadata": {},
     "execution_count": 3
    }
   ],
   "source": [
    "re.findall('\\d', 'abc- 1000 ?def')   #arg1: what we want to find  #arg2: string we are searching through  \n",
    "# returns the digits within the string as a list str"
   ]
  },
  {
   "cell_type": "code",
   "execution_count": 4,
   "metadata": {},
   "outputs": [
    {
     "output_type": "execute_result",
     "data": {
      "text/plain": [
       "['a', 'b', 'c', '-', ' ', '1', '0', '0', '0', ' ', '?', 'd', 'e', '.', 'f']"
      ]
     },
     "metadata": {},
     "execution_count": 4
    }
   ],
   "source": [
    "re.findall('.', 'abc- 1000 ?de.f')"
   ]
  },
  {
   "cell_type": "code",
   "execution_count": 5,
   "metadata": {},
   "outputs": [
    {
     "output_type": "execute_result",
     "data": {
      "text/plain": [
       "['.']"
      ]
     },
     "metadata": {},
     "execution_count": 5
    }
   ],
   "source": [
    "re.findall('\\.', 'abc- 1000 ?de.f')"
   ]
  },
  {
   "source": [
    "Quantifiers\n",
    "\n",
    "Before we only matched each character/digit one at a time. Quantifiers allow us to match a specific number of characters\n",
    "\n",
    "'+ : match one or more times (greeedy quantifier)\n",
    "\n",
    "'* : 0 or more times   (greedy quantifier)\n",
    "\n",
    "'? : pick up as few classifiers as possible that fit a given critera (lazy quantifier)"
   ],
   "cell_type": "markdown",
   "metadata": {}
  },
  {
   "cell_type": "code",
   "execution_count": 7,
   "metadata": {},
   "outputs": [
    {
     "output_type": "execute_result",
     "data": {
      "text/plain": [
       "['1000']"
      ]
     },
     "metadata": {},
     "execution_count": 7
    }
   ],
   "source": [
    "re.findall('\\d+', 'abc- 1000 ?de.f')"
   ]
  },
  {
   "cell_type": "code",
   "execution_count": 10,
   "metadata": {},
   "outputs": [
    {
     "output_type": "execute_result",
     "data": {
      "text/plain": [
       "['', '', '', '', '', '1000', '', '', '', '', '', '', '']"
      ]
     },
     "metadata": {},
     "execution_count": 10
    }
   ],
   "source": [
    "re.findall('\\d*', 'abc- 1000 ?de.f')"
   ]
  },
  {
   "cell_type": "code",
   "execution_count": 12,
   "metadata": {},
   "outputs": [
    {
     "output_type": "execute_result",
     "data": {
      "text/plain": [
       "['1', '0', '0', '0']"
      ]
     },
     "metadata": {},
     "execution_count": 12
    }
   ],
   "source": [
    "re.findall('\\d+?', 'abc- 1000 ?de.f')\n"
   ]
  },
  {
   "cell_type": "code",
   "execution_count": 13,
   "metadata": {},
   "outputs": [
    {
     "output_type": "execute_result",
     "data": {
      "text/plain": [
       "['this',\n",
       " 'is',\n",
       " 'a',\n",
       " 'good',\n",
       " 'hearted',\n",
       " 'example',\n",
       " 'often',\n",
       " 'hyphens',\n",
       " 'can',\n",
       " 'magically',\n",
       " 'appear']"
      ]
     },
     "metadata": {},
     "execution_count": 13
    }
   ],
   "source": [
    "ts = \"this is a good-hearted example, often hyphens can magically appear\"\n",
    "\n",
    "# lets match all the words, notice how it doesnt pick up on hyphenated words\n",
    "re.findall('\\w+', ts)"
   ]
  },
  {
   "cell_type": "code",
   "execution_count": 16,
   "metadata": {},
   "outputs": [
    {
     "output_type": "execute_result",
     "data": {
      "text/plain": [
       "['good-hearted']"
      ]
     },
     "metadata": {},
     "execution_count": 16
    }
   ],
   "source": [
    "re.findall('\\w+-\\w+', ts) #only match single good hearted"
   ]
  },
  {
   "cell_type": "code",
   "execution_count": 15,
   "metadata": {},
   "outputs": [
    {
     "output_type": "execute_result",
     "data": {
      "text/plain": [
       "['this',\n",
       " 'is',\n",
       " 'good-hearted',\n",
       " 'example',\n",
       " 'often',\n",
       " 'hyphens',\n",
       " 'can',\n",
       " 'magically',\n",
       " 'appear']"
      ]
     },
     "metadata": {},
     "execution_count": 15
    }
   ],
   "source": [
    "re.findall('\\w+-?\\w+', ts)  #add in once or none quantifier and get everything back"
   ]
  },
  {
   "cell_type": "code",
   "execution_count": 17,
   "metadata": {},
   "outputs": [
    {
     "output_type": "execute_result",
     "data": {
      "text/plain": [
       "['this',\n",
       " 'is',\n",
       " 'a',\n",
       " 'good-hearted',\n",
       " 'example',\n",
       " 'often',\n",
       " 'hyphens',\n",
       " 'can',\n",
       " 'magically',\n",
       " 'appear']"
      ]
     },
     "metadata": {},
     "execution_count": 17
    }
   ],
   "source": [
    "re.findall('\\w+-?\\w*', ts)  #add in once or none quantifier and return each word and the 'a' as its not a word\n"
   ]
  },
  {
   "cell_type": "code",
   "execution_count": 19,
   "metadata": {},
   "outputs": [
    {
     "output_type": "execute_result",
     "data": {
      "text/plain": [
       "['thi',\n",
       " 'goo',\n",
       " 'hea',\n",
       " 'rte',\n",
       " 'exa',\n",
       " 'mpl',\n",
       " 'oft',\n",
       " 'hyp',\n",
       " 'hen',\n",
       " 'can',\n",
       " 'mag',\n",
       " 'ica',\n",
       " 'lly',\n",
       " 'app',\n",
       " 'ear']"
      ]
     },
     "metadata": {},
     "execution_count": 19
    }
   ],
   "source": [
    "# we can also specificy a specific quantity on word boundaries\n",
    "re.findall('\\w{3}', ts) "
   ]
  },
  {
   "cell_type": "code",
   "execution_count": 33,
   "metadata": {},
   "outputs": [
    {
     "output_type": "execute_result",
     "data": {
      "text/plain": [
       "['this',\n",
       " '',\n",
       " 'is',\n",
       " '',\n",
       " 'a',\n",
       " '',\n",
       " 'good-',\n",
       " 'heart',\n",
       " 'ed',\n",
       " '',\n",
       " 'examp',\n",
       " 'le',\n",
       " '',\n",
       " '',\n",
       " 'often',\n",
       " '',\n",
       " 'hyphe',\n",
       " 'ns',\n",
       " '',\n",
       " 'can',\n",
       " '',\n",
       " 'magic',\n",
       " 'ally',\n",
       " '',\n",
       " 'appea',\n",
       " 'r',\n",
       " '']"
      ]
     },
     "metadata": {},
     "execution_count": 33
    }
   ],
   "source": [
    "re.findall('\\w{0,5}-?w*', ts)  #only take a max range of 5 in the string including the hyphen"
   ]
  },
  {
   "source": [
    "re.findall('\\w{,5}-?\\w' , ts)  #only take a max range of 5 in the string including the hyphen"
   ],
   "cell_type": "code",
   "metadata": {},
   "execution_count": 36,
   "outputs": [
    {
     "output_type": "execute_result",
     "data": {
      "text/plain": [
       "['this',\n",
       " 'is',\n",
       " 'a',\n",
       " 'good-h',\n",
       " 'earted',\n",
       " 'exampl',\n",
       " 'e',\n",
       " 'often',\n",
       " 'hyphen',\n",
       " 's',\n",
       " 'can',\n",
       " 'magica',\n",
       " 'lly',\n",
       " 'appear']"
      ]
     },
     "metadata": {},
     "execution_count": 36
    }
   ]
  },
  {
   "source": [
    "Capture groups\n",
    "\n",
    "use parenthesis: (   )\n",
    "\n",
    "treat anything within parenthesis as a single unit"
   ],
   "cell_type": "markdown",
   "metadata": {}
  },
  {
   "source": [
    "ts2 = 'a few unexpected words are to be expected'\n",
    "\n",
    "re.findall(r\"(un)?expected\", ts2)  #only show un in unexpected, findall tries to match capture groups"
   ],
   "cell_type": "code",
   "metadata": {},
   "execution_count": 40,
   "outputs": [
    {
     "output_type": "execute_result",
     "data": {
      "text/plain": [
       "['un', '']"
      ]
     },
     "metadata": {},
     "execution_count": 40
    }
   ]
  },
  {
   "cell_type": "code",
   "execution_count": 47,
   "metadata": {},
   "outputs": [
    {
     "output_type": "execute_result",
     "data": {
      "text/plain": [
       "['unexpected', 'expected']"
      ]
     },
     "metadata": {},
     "execution_count": 47
    }
   ],
   "source": [
    "re.findall(r\"(?:un)?expected\", ts2)  #only show un in unexpected, findall tries to match capture groups\n",
    "# we add a ?: modifies behaviour to maintain capture group"
   ]
  },
  {
   "cell_type": "code",
   "execution_count": 56,
   "metadata": {},
   "outputs": [
    {
     "output_type": "execute_result",
     "data": {
      "text/plain": [
       "['', 'un']"
      ]
     },
     "metadata": {},
     "execution_count": 56
    }
   ],
   "source": [
    "ts3 = 'not expected and unexpected should both match'\n",
    "re.findall(r\"(un|not)?expected\", ts3)  #match both expected and non expected"
   ]
  },
  {
   "source": [
    "Character Sets\n",
    "\n",
    "can be treated as a list unlike character groups we do not treat them as elements\n",
    "* - : any character within a range\n",
    "\n",
    "0-9 : range bound digits\n",
    "\n",
    "a-z : range bound characters\n",
    "\n",
    "to add a hyphen we use \\ to escape"
   ],
   "cell_type": "markdown",
   "metadata": {}
  },
  {
   "cell_type": "code",
   "execution_count": 60,
   "metadata": {},
   "outputs": [
    {
     "output_type": "execute_result",
     "data": {
      "text/plain": [
       "['a', 'b', 'c', '1', '0', '0', '0', 'd', 'e', 'f']"
      ]
     },
     "metadata": {},
     "execution_count": 60
    }
   ],
   "source": [
    "re.findall(r\"[0-9a-z]\", 'abc- 1000 ?def')"
   ]
  },
  {
   "cell_type": "code",
   "execution_count": 62,
   "metadata": {},
   "outputs": [
    {
     "output_type": "execute_result",
     "data": {
      "text/plain": [
       "['abc-', '1000', 'def']"
      ]
     },
     "metadata": {},
     "execution_count": 62
    }
   ],
   "source": [
    "re.findall(r\"[0-9a-z\\-]+\", 'abc- 1000 ?def')"
   ]
  },
  {
   "source": [
    "Boundaries"
   ],
   "cell_type": "markdown",
   "metadata": {}
  },
  {
   "cell_type": "code",
   "execution_count": 69,
   "metadata": {},
   "outputs": [
    {
     "output_type": "execute_result",
     "data": {
      "text/plain": [
       "['if it appears']"
      ]
     },
     "metadata": {},
     "execution_count": 69
    }
   ],
   "source": [
    "ts4 = 'if it appears at the start it will match, if it appears anywhere else it will not'\n",
    "re.findall(\"^if it appears\", ts4)  # ^only start search at the start of the string"
   ]
  },
  {
   "cell_type": "code",
   "execution_count": 70,
   "metadata": {},
   "outputs": [
    {
     "output_type": "execute_result",
     "data": {
      "text/plain": [
       "['example']"
      ]
     },
     "metadata": {},
     "execution_count": 70
    }
   ],
   "source": [
    "ts5 = 'there are two places where the word example is used as an example'\n",
    "re.findall(\"example$\", ts5)   # $ starts search at the end of the string"
   ]
  },
  {
   "cell_type": "code",
   "execution_count": 79,
   "metadata": {},
   "outputs": [
    {
     "output_type": "execute_result",
     "data": {
      "text/plain": [
       "[' ',\n",
       " ' ',\n",
       " ' ',\n",
       " ' ',\n",
       " ' ',\n",
       " ' ',\n",
       " ' ',\n",
       " ' ',\n",
       " ' ',\n",
       " ' ',\n",
       " ' ',\n",
       " ' ',\n",
       " ' ',\n",
       " ' ',\n",
       " ' ',\n",
       " ' ']"
      ]
     },
     "metadata": {},
     "execution_count": 79
    }
   ],
   "source": [
    "re.findall(r\"\\s\", ts4)  #dont use this for word boundaries as it doesnt work with punctuation within a string"
   ]
  },
  {
   "cell_type": "code",
   "execution_count": 80,
   "metadata": {},
   "outputs": [
    {
     "output_type": "execute_result",
     "data": {
      "text/plain": [
       "['',\n",
       " '',\n",
       " '',\n",
       " '',\n",
       " '',\n",
       " '',\n",
       " '',\n",
       " '',\n",
       " '',\n",
       " '',\n",
       " '',\n",
       " '',\n",
       " '',\n",
       " '',\n",
       " '',\n",
       " '',\n",
       " '',\n",
       " '',\n",
       " '',\n",
       " '',\n",
       " '',\n",
       " '',\n",
       " '',\n",
       " '',\n",
       " '',\n",
       " '',\n",
       " '',\n",
       " '',\n",
       " '',\n",
       " '',\n",
       " '',\n",
       " '',\n",
       " '',\n",
       " '']"
      ]
     },
     "metadata": {},
     "execution_count": 80
    }
   ],
   "source": [
    "re.findall(r\"\\b\", ts4)  #we use \\b for word boundaries"
   ]
  },
  {
   "cell_type": "code",
   "execution_count": 81,
   "metadata": {},
   "outputs": [
    {
     "output_type": "execute_result",
     "data": {
      "text/plain": [
       "['if',\n",
       " 'it',\n",
       " 'appears',\n",
       " 'at',\n",
       " 'the',\n",
       " 'start',\n",
       " 'it',\n",
       " 'will',\n",
       " 'match',\n",
       " 'if',\n",
       " 'it',\n",
       " 'appears',\n",
       " 'anywhere',\n",
       " 'else',\n",
       " 'it',\n",
       " 'will',\n",
       " 'not']"
      ]
     },
     "metadata": {},
     "execution_count": 81
    }
   ],
   "source": [
    "re.findall(r\"\\b\\w+\", ts4)"
   ]
  },
  {
   "source": [
    "Look ahead and Look behind assertions\n"
   ],
   "cell_type": "markdown",
   "metadata": {}
  },
  {
   "cell_type": "code",
   "execution_count": 87,
   "metadata": {},
   "outputs": [
    {
     "output_type": "execute_result",
     "data": {
      "text/plain": [
       "['hello world']"
      ]
     },
     "metadata": {},
     "execution_count": 87
    }
   ],
   "source": [
    "ts6 = \"1: hello world, 2: hello world\"\n",
    "re.findall(r\"(?<=1: )hello world\", ts6)   #positive look behind assertion, only gets the first hello world"
   ]
  },
  {
   "cell_type": "code",
   "execution_count": 90,
   "metadata": {},
   "outputs": [
    {
     "output_type": "execute_result",
     "data": {
      "text/plain": [
       "['hello world']"
      ]
     },
     "metadata": {},
     "execution_count": 90
    }
   ],
   "source": [
    "re.findall(r\"hello world(?=,)\", ts6)   # we want look ahead assertion here"
   ]
  },
  {
   "cell_type": "code",
   "execution_count": 95,
   "metadata": {},
   "outputs": [
    {
     "output_type": "execute_result",
     "data": {
      "text/plain": [
       "['hello world']"
      ]
     },
     "metadata": {},
     "execution_count": 95
    }
   ],
   "source": [
    "re.findall(r\"hello world(?!,)\", ts6)  # we want hello world not followed by a comma"
   ]
  },
  {
   "source": [
    "Modifiers\n",
    "\n",
    "Allows modification of behaviour of entire regular expression"
   ],
   "cell_type": "markdown",
   "metadata": {}
  },
  {
   "cell_type": "code",
   "execution_count": 99,
   "metadata": {},
   "outputs": [
    {
     "output_type": "stream",
     "name": "stdout",
     "text": [
      "we have a new line character\nin the middle of this sentence\n"
     ]
    },
    {
     "output_type": "execute_result",
     "data": {
      "text/plain": [
       "['character']"
      ]
     },
     "metadata": {},
     "execution_count": 99
    }
   ],
   "source": [
    "ts7 = \"we have a new line character\\nin the middle of this sentence\"\n",
    "print(ts7)\n",
    "re.findall('(?s)character',ts7)  #global modifying function\n",
    "# . - dot matches new line"
   ]
  },
  {
   "cell_type": "code",
   "execution_count": 100,
   "metadata": {},
   "outputs": [
    {
     "output_type": "execute_result",
     "data": {
      "text/plain": [
       "['character\\n']"
      ]
     },
     "metadata": {},
     "execution_count": 100
    }
   ],
   "source": [
    "re.findall('(?s)character.',ts7)  #global modifying function\n",
    "# . - dot matches new line"
   ]
  },
  {
   "source": [
    "Conditions\n"
   ],
   "cell_type": "markdown",
   "metadata": {}
  },
  {
   "cell_type": "code",
   "execution_count": 109,
   "metadata": {},
   "outputs": [
    {
     "output_type": "error",
     "ename": "TypeError",
     "evalue": "expected string or bytes-like object",
     "traceback": [
      "\u001b[1;31m---------------------------------------------------------------------------\u001b[0m",
      "\u001b[1;31mTypeError\u001b[0m                                 Traceback (most recent call last)",
      "\u001b[1;32m<ipython-input-109-c853fa58fbd4>\u001b[0m in \u001b[0;36m<module>\u001b[1;34m\u001b[0m\n\u001b[0;32m      1\u001b[0m \u001b[0mg_o_s\u001b[0m \u001b[1;33m=\u001b[0m \u001b[1;33m[\u001b[0m\u001b[1;34m'hello world!\\nsomething bye!\\nsomething world!'\u001b[0m\u001b[1;33m]\u001b[0m\u001b[1;33m\u001b[0m\u001b[1;33m\u001b[0m\u001b[0m\n\u001b[1;32m----> 2\u001b[1;33m \u001b[0mre\u001b[0m\u001b[1;33m.\u001b[0m\u001b[0mfindall\u001b[0m\u001b[1;33m(\u001b[0m\u001b[1;34mr'(hello)?(?(1) world| bye)'\u001b[0m\u001b[1;33m,\u001b[0m \u001b[0mg_o_s\u001b[0m\u001b[1;33m)\u001b[0m\u001b[1;33m\u001b[0m\u001b[1;33m\u001b[0m\u001b[0m\n\u001b[0m",
      "\u001b[1;32mC:\\Python\\Anaconda\\lib\\re.py\u001b[0m in \u001b[0;36mfindall\u001b[1;34m(pattern, string, flags)\u001b[0m\n\u001b[0;32m    221\u001b[0m \u001b[1;33m\u001b[0m\u001b[0m\n\u001b[0;32m    222\u001b[0m     Empty matches are included in the result.\"\"\"\n\u001b[1;32m--> 223\u001b[1;33m     \u001b[1;32mreturn\u001b[0m \u001b[0m_compile\u001b[0m\u001b[1;33m(\u001b[0m\u001b[0mpattern\u001b[0m\u001b[1;33m,\u001b[0m \u001b[0mflags\u001b[0m\u001b[1;33m)\u001b[0m\u001b[1;33m.\u001b[0m\u001b[0mfindall\u001b[0m\u001b[1;33m(\u001b[0m\u001b[0mstring\u001b[0m\u001b[1;33m)\u001b[0m\u001b[1;33m\u001b[0m\u001b[1;33m\u001b[0m\u001b[0m\n\u001b[0m\u001b[0;32m    224\u001b[0m \u001b[1;33m\u001b[0m\u001b[0m\n\u001b[0;32m    225\u001b[0m \u001b[1;32mdef\u001b[0m \u001b[0mfinditer\u001b[0m\u001b[1;33m(\u001b[0m\u001b[0mpattern\u001b[0m\u001b[1;33m,\u001b[0m \u001b[0mstring\u001b[0m\u001b[1;33m,\u001b[0m \u001b[0mflags\u001b[0m\u001b[1;33m=\u001b[0m\u001b[1;36m0\u001b[0m\u001b[1;33m)\u001b[0m\u001b[1;33m:\u001b[0m\u001b[1;33m\u001b[0m\u001b[1;33m\u001b[0m\u001b[0m\n",
      "\u001b[1;31mTypeError\u001b[0m: expected string or bytes-like object"
     ]
    }
   ],
   "source": [
    "g_o_s = ['hello world!\\nsomething bye!\\nsomething world!']\n",
    "re.findall(r'(hello)?(?(1) world| bye)', g_o_s)"
   ]
  },
  {
   "cell_type": "code",
   "execution_count": 110,
   "metadata": {},
   "outputs": [
    {
     "output_type": "execute_result",
     "data": {
      "text/plain": [
       "<re.Match object; span=(0, 5), match='hello'>"
      ]
     },
     "metadata": {},
     "execution_count": 110
    }
   ],
   "source": [
    "txt = \"hello world and hello mars\"\n",
    "\n",
    "re.match(\"hello\", txt)  # returns match object"
   ]
  },
  {
   "cell_type": "code",
   "execution_count": 111,
   "metadata": {},
   "outputs": [
    {
     "output_type": "execute_result",
     "data": {
      "text/plain": [
       "'hello'"
      ]
     },
     "metadata": {},
     "execution_count": 111
    }
   ],
   "source": [
    "x = re.match(\"hello\", txt) #assign match object\n",
    "x.group()  #call using group function"
   ]
  },
  {
   "cell_type": "code",
   "execution_count": 112,
   "metadata": {},
   "outputs": [
    {
     "output_type": "execute_result",
     "data": {
      "text/plain": [
       "'world'"
      ]
     },
     "metadata": {},
     "execution_count": 112
    }
   ],
   "source": [
    "# re.search looks through the entire string and only returns the first occurence of the string\n",
    "y = re.search('world', txt)\n",
    "y.group()"
   ]
  },
  {
   "cell_type": "code",
   "execution_count": null,
   "metadata": {},
   "outputs": [],
   "source": [
    "# findall returns all occurences of a subset of strings within an entire string"
   ]
  }
 ]
}